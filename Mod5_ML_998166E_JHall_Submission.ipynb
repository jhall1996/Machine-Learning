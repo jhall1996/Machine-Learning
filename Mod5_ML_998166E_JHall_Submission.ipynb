{
  "nbformat": 4,
  "nbformat_minor": 0,
  "metadata": {
    "colab": {
      "provenance": []
    },
    "kernelspec": {
      "name": "python3",
      "display_name": "Python 3"
    },
    "language_info": {
      "name": "python"
    }
  },
  "cells": [
    {
      "cell_type": "code",
      "execution_count": 1,
      "metadata": {
        "colab": {
          "base_uri": "https://localhost:8080/"
        },
        "id": "NVhCBSjE87N8",
        "outputId": "affa0414-7c4d-49c6-c9b6-a4bbf7fc02f7"
      },
      "outputs": [
        {
          "output_type": "stream",
          "name": "stdout",
          "text": [
            "Mounted at /content/gdrive/\n"
          ]
        }
      ],
      "source": [
        "# Fixed dependencies - do not remove or change.\n",
        "import pytest\n",
        "import pandas as pd\n",
        "import numpy as np\n",
        "from google.colab import drive\n",
        "drive.mount('/content/gdrive/')\n",
        "# Import your dependencies\n",
        "import matplotlib.pyplot as plt\n",
        "from sklearn.compose import ColumnTransformer\n",
        "from sklearn.preprocessing import LabelEncoder\n",
        "from sklearn.preprocessing import StandardScaler\n",
        "from sklearn.linear_model import LogisticRegression\n",
        "from sklearn.neighbors import KNeighborsClassifier\n",
        "from sklearn.svm import SVC\n",
        "from sklearn.naive_bayes import GaussianNB\n",
        "from sklearn.tree import DecisionTreeClassifier\n",
        "from sklearn.ensemble import RandomForestClassifier\n",
        "from sklearn.model_selection import train_test_split\n",
        "from sklearn.metrics import accuracy_score\n",
        "from sklearn.metrics import confusion_matrix\n",
        "from matplotlib.colors import ListedColormap\n",
        "import seaborn as sns\n",
        "from sklearn.model_selection import GridSearchCV"
      ]
    },
    {
      "cell_type": "code",
      "source": [
        "# Import data\n",
        "def import_local_data(file_path):\n",
        "\n",
        "    raw_df = pd.read_excel(file_path)\n",
        "\n",
        "    return raw_df"
      ],
      "metadata": {
        "id": "Q0wRA8-89CEA"
      },
      "execution_count": 2,
      "outputs": []
    },
    {
      "cell_type": "code",
      "source": [
        "#local_file_path = 'https://github.com/Tom12325/Module4c/blob/main/breast-cancer.xls?raw=true'\n",
        "local_file_path = 'https://github.com/jhall1996/Machine-Learning/blob/main/breast-cancer.xls?raw=true'"
      ],
      "metadata": {
        "id": "5AJ10ZyG9H85"
      },
      "execution_count": 3,
      "outputs": []
    },
    {
      "cell_type": "code",
      "source": [
        "# Dont change\n",
        "raw_data = import_local_data(local_file_path)"
      ],
      "metadata": {
        "id": "jDv8EJH69Hzd"
      },
      "execution_count": 4,
      "outputs": []
    },
    {
      "cell_type": "markdown",
      "source": [
        "Conduct exploratory data analysis and explain your key findings - Examine the data, explain its key features and what they look like. Highlight any fields that are anomalous."
      ],
      "metadata": {
        "id": "A2Xs1tEZCuoy"
      }
    },
    {
      "cell_type": "code",
      "source": [
        "# Explain your key findings\n",
        "# 286 entries were identified within the dataset\n",
        "# Within the age column, there are age ranges. These will need to be transformed to record the median of each range.\n",
        "# Tumour size column includes invalid data entries (dates rather than numeric values). These will be imputed with the mean value.\n",
        "# Node cap and breast quad columns includes invalid data entries (question marks). As these entries are small in numnber the rows including them will be removed from the dataset.\n",
        "# There is a higher bias towards no-recurrence-events within the target variable, therefore we will use a larger test size (0.3, usually it would be 0.2)\n",
        "# Update, see end results for the justification for reversing this decision and using a test size of 0.2\n"
      ],
      "metadata": {
        "id": "ojrUqkWoCoQ9"
      },
      "execution_count": null,
      "outputs": []
    },
    {
      "cell_type": "markdown",
      "source": [
        "Create any data pre-processing that you will conduct on seen and unseen data. Regardless of the model you use, this dataframe must contain only numeric features and have a strategy for any expected missing values. Any objects can that are needed to handle the test data that are dependent on the training data can be stored in the model class. You are recommended to use sklearn Pipelines or similar functionality to ensure reproducibility."
      ],
      "metadata": {
        "id": "xCBQ-ITAC2ys"
      }
    },
    {
      "cell_type": "code",
      "source": [
        "X = raw_data.iloc[:, :-1].values\n",
        "y = raw_data.iloc[:, -1].values\n",
        "X_train_split, X_test_split, y_train_split, y_test_split = train_test_split(X, y, test_size = 0.2, random_state = 0)"
      ],
      "metadata": {
        "id": "ivVBHzKmGxRJ"
      },
      "execution_count": 45,
      "outputs": []
    },
    {
      "cell_type": "code",
      "source": [
        "y_train_split"
      ],
      "metadata": {
        "colab": {
          "base_uri": "https://localhost:8080/"
        },
        "id": "hVahxcE8NUGp",
        "outputId": "fb714224-f849-42f8-bf72-fedd6239f8e1"
      },
      "execution_count": 46,
      "outputs": [
        {
          "output_type": "execute_result",
          "data": {
            "text/plain": [
              "array(['no-recurrence-events', 'recurrence-events',\n",
              "       'no-recurrence-events', 'no-recurrence-events',\n",
              "       'no-recurrence-events', 'no-recurrence-events',\n",
              "       'no-recurrence-events', 'recurrence-events',\n",
              "       'no-recurrence-events', 'no-recurrence-events',\n",
              "       'recurrence-events', 'recurrence-events', 'no-recurrence-events',\n",
              "       'recurrence-events', 'recurrence-events', 'recurrence-events',\n",
              "       'no-recurrence-events', 'recurrence-events',\n",
              "       'no-recurrence-events', 'no-recurrence-events',\n",
              "       'no-recurrence-events', 'no-recurrence-events',\n",
              "       'no-recurrence-events', 'recurrence-events', 'recurrence-events',\n",
              "       'no-recurrence-events', 'no-recurrence-events',\n",
              "       'no-recurrence-events', 'no-recurrence-events',\n",
              "       'recurrence-events', 'recurrence-events', 'no-recurrence-events',\n",
              "       'no-recurrence-events', 'no-recurrence-events',\n",
              "       'no-recurrence-events', 'no-recurrence-events',\n",
              "       'no-recurrence-events', 'no-recurrence-events',\n",
              "       'no-recurrence-events', 'no-recurrence-events',\n",
              "       'no-recurrence-events', 'no-recurrence-events',\n",
              "       'recurrence-events', 'recurrence-events', 'no-recurrence-events',\n",
              "       'no-recurrence-events', 'recurrence-events',\n",
              "       'no-recurrence-events', 'no-recurrence-events',\n",
              "       'no-recurrence-events', 'no-recurrence-events',\n",
              "       'no-recurrence-events', 'no-recurrence-events',\n",
              "       'no-recurrence-events', 'no-recurrence-events',\n",
              "       'no-recurrence-events', 'no-recurrence-events',\n",
              "       'recurrence-events', 'recurrence-events', 'recurrence-events',\n",
              "       'no-recurrence-events', 'no-recurrence-events',\n",
              "       'no-recurrence-events', 'no-recurrence-events',\n",
              "       'recurrence-events', 'no-recurrence-events',\n",
              "       'no-recurrence-events', 'no-recurrence-events',\n",
              "       'recurrence-events', 'recurrence-events', 'no-recurrence-events',\n",
              "       'recurrence-events', 'no-recurrence-events',\n",
              "       'no-recurrence-events', 'recurrence-events',\n",
              "       'no-recurrence-events', 'no-recurrence-events',\n",
              "       'no-recurrence-events', 'no-recurrence-events',\n",
              "       'recurrence-events', 'recurrence-events', 'no-recurrence-events',\n",
              "       'no-recurrence-events', 'no-recurrence-events',\n",
              "       'no-recurrence-events', 'recurrence-events',\n",
              "       'no-recurrence-events', 'no-recurrence-events',\n",
              "       'no-recurrence-events', 'no-recurrence-events',\n",
              "       'recurrence-events', 'no-recurrence-events',\n",
              "       'no-recurrence-events', 'no-recurrence-events',\n",
              "       'no-recurrence-events', 'no-recurrence-events',\n",
              "       'no-recurrence-events', 'no-recurrence-events',\n",
              "       'no-recurrence-events', 'recurrence-events',\n",
              "       'no-recurrence-events', 'recurrence-events',\n",
              "       'no-recurrence-events', 'no-recurrence-events',\n",
              "       'recurrence-events', 'no-recurrence-events',\n",
              "       'no-recurrence-events', 'no-recurrence-events',\n",
              "       'no-recurrence-events', 'no-recurrence-events',\n",
              "       'recurrence-events', 'recurrence-events', 'no-recurrence-events',\n",
              "       'recurrence-events', 'no-recurrence-events',\n",
              "       'no-recurrence-events', 'no-recurrence-events',\n",
              "       'no-recurrence-events', 'recurrence-events', 'recurrence-events',\n",
              "       'no-recurrence-events', 'no-recurrence-events',\n",
              "       'no-recurrence-events', 'no-recurrence-events',\n",
              "       'no-recurrence-events', 'recurrence-events',\n",
              "       'no-recurrence-events', 'recurrence-events',\n",
              "       'no-recurrence-events', 'no-recurrence-events',\n",
              "       'no-recurrence-events', 'no-recurrence-events',\n",
              "       'no-recurrence-events', 'no-recurrence-events',\n",
              "       'no-recurrence-events', 'no-recurrence-events',\n",
              "       'no-recurrence-events', 'no-recurrence-events',\n",
              "       'no-recurrence-events', 'no-recurrence-events',\n",
              "       'no-recurrence-events', 'no-recurrence-events',\n",
              "       'recurrence-events', 'no-recurrence-events', 'recurrence-events',\n",
              "       'no-recurrence-events', 'recurrence-events',\n",
              "       'no-recurrence-events', 'recurrence-events',\n",
              "       'no-recurrence-events', 'recurrence-events',\n",
              "       'no-recurrence-events', 'no-recurrence-events',\n",
              "       'recurrence-events', 'no-recurrence-events', 'recurrence-events',\n",
              "       'recurrence-events', 'no-recurrence-events', 'recurrence-events',\n",
              "       'no-recurrence-events', 'recurrence-events',\n",
              "       'no-recurrence-events', 'no-recurrence-events',\n",
              "       'no-recurrence-events', 'no-recurrence-events',\n",
              "       'no-recurrence-events', 'no-recurrence-events',\n",
              "       'no-recurrence-events', 'no-recurrence-events',\n",
              "       'no-recurrence-events', 'no-recurrence-events',\n",
              "       'recurrence-events', 'no-recurrence-events',\n",
              "       'no-recurrence-events', 'no-recurrence-events',\n",
              "       'recurrence-events', 'recurrence-events', 'no-recurrence-events',\n",
              "       'no-recurrence-events', 'no-recurrence-events',\n",
              "       'no-recurrence-events', 'recurrence-events',\n",
              "       'no-recurrence-events', 'recurrence-events', 'recurrence-events',\n",
              "       'recurrence-events', 'recurrence-events', 'no-recurrence-events',\n",
              "       'recurrence-events', 'no-recurrence-events',\n",
              "       'no-recurrence-events', 'no-recurrence-events',\n",
              "       'no-recurrence-events', 'no-recurrence-events',\n",
              "       'no-recurrence-events', 'no-recurrence-events',\n",
              "       'no-recurrence-events', 'no-recurrence-events',\n",
              "       'no-recurrence-events', 'no-recurrence-events',\n",
              "       'no-recurrence-events', 'recurrence-events', 'recurrence-events',\n",
              "       'recurrence-events', 'no-recurrence-events',\n",
              "       'no-recurrence-events', 'no-recurrence-events',\n",
              "       'no-recurrence-events', 'no-recurrence-events',\n",
              "       'recurrence-events', 'no-recurrence-events',\n",
              "       'no-recurrence-events', 'no-recurrence-events',\n",
              "       'no-recurrence-events', 'no-recurrence-events',\n",
              "       'no-recurrence-events', 'recurrence-events',\n",
              "       'no-recurrence-events', 'no-recurrence-events',\n",
              "       'no-recurrence-events', 'recurrence-events',\n",
              "       'no-recurrence-events', 'no-recurrence-events',\n",
              "       'no-recurrence-events', 'recurrence-events',\n",
              "       'no-recurrence-events', 'no-recurrence-events',\n",
              "       'no-recurrence-events'], dtype=object)"
            ]
          },
          "metadata": {},
          "execution_count": 46
        }
      ]
    },
    {
      "cell_type": "code",
      "source": [
        "class Module4_Model:\n",
        "\n",
        "    def __init__(self):\n",
        "        self.model = None\n",
        "        self.label_encoder = LabelEncoder()\n",
        "\n",
        "    def preprocess_training_data(self, training_df, train_labels):\n",
        "\n",
        "        # Convert NumPy array to a DataFrame\n",
        "        df = pd.DataFrame(training_df, columns=['age', 'menopause', 'tumor-size', 'inv-nodes', 'node-caps', 'deg-malig',\n",
        "                                                 'breast', 'breast-quad', 'irradiat'])\n",
        "\n",
        "        # Concatenate features and labels into a single DataFrame\n",
        "        df = pd.concat([df, pd.DataFrame(train_labels, columns=['Class'])], axis=1)\n",
        "\n",
        "        # Create a LabelEncoder object\n",
        "        le = LabelEncoder()\n",
        "\n",
        "        # Convert 'age', 'tumor-size', and 'inv-nodes' columns to string representation\n",
        "        df['age'] = df['age'].astype(str)\n",
        "        df['tumor-size'] = df['tumor-size'].astype(str)\n",
        "        df['inv-nodes'] = df['inv-nodes'].astype(str)\n",
        "\n",
        "        # Split 'age' column into two columns and convert them to numeric values\n",
        "        age_ranges = df['age'].str.split('-', expand=True).apply(pd.to_numeric, errors='coerce')\n",
        "        df['age'] = age_ranges.mean(axis=1, skipna=True)\n",
        "        df['age'] = df['age'].fillna(df['age'].mean())\n",
        "\n",
        "        # Encode 'age' column as integer values\n",
        "        df['age'] = le.fit_transform(df['age'])\n",
        "\n",
        "        # Encode 'menopause' column as integer values\n",
        "        df['menopause'] = le.fit_transform(df['menopause'])\n",
        "\n",
        "        # Split the 'tumor-size' column into two columns and convert them to numeric values\n",
        "        tumor_ranges = df['tumor-size'].str.split('-', expand=True).apply(pd.to_numeric, errors='coerce')\n",
        "        df['tumor-size'] = tumor_ranges.mean(axis=1, skipna=True)\n",
        "        df['tumor-size'] = df['tumor-size'].fillna(df['tumor-size'].mean())\n",
        "\n",
        "        # Split the 'inv-nodes' column into two columns and convert them to numeric values\n",
        "        inv_ranges = df['inv-nodes'].str.split('-', expand=True).apply(pd.to_numeric, errors='coerce')\n",
        "        df['inv-nodes'] = inv_ranges.mean(axis=1, skipna=True)\n",
        "        df['inv-nodes'] = df['inv-nodes'].fillna(df['inv-nodes'].mean())\n",
        "\n",
        "        # Remove rows with a \"?\" in the \"node-caps\" column\n",
        "        df = df[df[\"node-caps\"] != \"?\"]\n",
        "        # Encode \"node-caps\" column as integer values\n",
        "        df[\"node-caps\"] = le.fit_transform(df[\"node-caps\"])\n",
        "\n",
        "        # Encode \"breast\" column as integer values\n",
        "        df[\"breast\"] = le.fit_transform(df[\"breast\"])\n",
        "\n",
        "        # Remove any rows with a \"?\" in the \"breast-quad\" column\n",
        "        df = df[df[\"breast-quad\"] != \"?\"]\n",
        "        # Encode \"breast-quad\" column as integer values\n",
        "        df[\"breast-quad\"] = le.fit_transform(df[\"breast-quad\"])\n",
        "\n",
        "        # Encode \"irradiat\" column as integer values\n",
        "        df[\"irradiat\"] = le.fit_transform(df[\"irradiat\"])\n",
        "\n",
        "        # Split combined DataFrame back into features and labels\n",
        "        X_train_processed = df.drop('Class', axis=1)\n",
        "        y_train_processed = df['Class']\n",
        "\n",
        "        # Fit label encoder to training labels\n",
        "        self.label_encoder.fit(y_train_processed)\n",
        "        processed_train_labels = self.label_encoder.transform(y_train_processed)\n",
        "\n",
        "        return X_train_processed, processed_train_labels\n",
        "\n",
        "    def preprocess_test_data(self, test_df, test_labels):\n",
        "\n",
        "        # Convert NumPy array to a DataFrame\n",
        "        df = pd.DataFrame(test_df, columns=['age', 'menopause', 'tumor-size', 'inv-nodes', 'node-caps', 'deg-malig',\n",
        "                                                 'breast', 'breast-quad', 'irradiat'])\n",
        "\n",
        "        # Concatenate the features and labels into a single DataFrame\n",
        "        df = pd.concat([df, pd.DataFrame(test_labels, columns=['Class'])], axis=1)\n",
        "\n",
        "        # Create a LabelEncoder object\n",
        "        le = LabelEncoder()\n",
        "\n",
        "        # Convert 'age', 'tumor-size', and 'inv-nodes' columns to string representation\n",
        "        df['age'] = df['age'].astype(str)\n",
        "        df['tumor-size'] = df['tumor-size'].astype(str)\n",
        "        df['inv-nodes'] = df['inv-nodes'].astype(str)\n",
        "\n",
        "        # Split 'age' column into two columns and convert them to numeric values\n",
        "        age_ranges = df['age'].str.split('-', expand=True).apply(pd.to_numeric, errors='coerce')\n",
        "        df['age'] = age_ranges.mean(axis=1, skipna=True)\n",
        "        df['age'] = df['age'].fillna(df['age'].mean())\n",
        "\n",
        "        # Encode 'age' column as integer values\n",
        "        df['age'] = le.fit_transform(df['age'])\n",
        "\n",
        "        # Encode'menopause' column as integer values\n",
        "        df['menopause'] = le.fit_transform(df['menopause'])\n",
        "\n",
        "        # Split 'tumor-size' column into two columns and convert them to numeric values\n",
        "        tumor_ranges = df['tumor-size'].str.split('-', expand=True).apply(pd.to_numeric, errors='coerce')\n",
        "        df['tumor-size'] = tumor_ranges.mean(axis=1, skipna=True)\n",
        "        df['tumor-size'] = df['tumor-size'].fillna(df['tumor-size'].mean())\n",
        "\n",
        "        # Split 'inv-nodes' column into two columns and convert them to numeric values\n",
        "        inv_ranges = df['inv-nodes'].str.split('-', expand=True).apply(pd.to_numeric, errors='coerce')\n",
        "        df['inv-nodes'] = inv_ranges.mean(axis=1, skipna=True)\n",
        "        df['inv-nodes'] = df['inv-nodes'].fillna(df['inv-nodes'].mean())\n",
        "\n",
        "        # Remove rows with a \"?\" in \"node-caps\"\n",
        "        df = df[df[\"node-caps\"] != \"?\"]\n",
        "        # Encode \"node-caps\" column as integer values\n",
        "        df[\"node-caps\"] = le.fit_transform(df[\"node-caps\"])\n",
        "\n",
        "        # Encode \"breast\" column as integer values\n",
        "        df[\"breast\"] = le.fit_transform(df[\"breast\"])\n",
        "\n",
        "        # Remove any rows with a \"?\" in the \"breast-quad\" column\n",
        "        df = df[df[\"breast-quad\"] != \"?\"]\n",
        "        # Encode  \"breast-quad\" column as integer values\n",
        "        df[\"breast-quad\"] = le.fit_transform(df[\"breast-quad\"])\n",
        "\n",
        "        # Encode \"irradiat\" column as integer values\n",
        "        df[\"irradiat\"] = le.fit_transform(df[\"irradiat\"])\n",
        "\n",
        "        # Split combined dataframe back into features and labels\n",
        "        X_test_processed = df.drop('Class', axis=1)\n",
        "        y_test_processed = df['Class']\n",
        "\n",
        "        # Fit label encoder to test labels\n",
        "        self.label_encoder.fit(y_test_processed)\n",
        "        processed_train_labels = self.label_encoder.transform(y_test_processed)\n",
        "\n",
        "        return X_test_processed, processed_train_labels\n"
      ],
      "metadata": {
        "id": "wFztfIYrRgzg"
      },
      "execution_count": 47,
      "outputs": []
    },
    {
      "cell_type": "code",
      "source": [
        "# Dont change\n",
        "my_model = Module4_Model()"
      ],
      "metadata": {
        "id": "VtvVntdDKJfe"
      },
      "execution_count": 48,
      "outputs": []
    },
    {
      "cell_type": "code",
      "source": [
        "X_train, y_train = my_model.preprocess_training_data(X_train_split, y_train_split)"
      ],
      "metadata": {
        "id": "hNFwIEmaKzW_"
      },
      "execution_count": 49,
      "outputs": []
    },
    {
      "cell_type": "code",
      "source": [
        "X_train"
      ],
      "metadata": {
        "colab": {
          "base_uri": "https://localhost:8080/",
          "height": 424
        },
        "id": "pyImbOlb4X5H",
        "outputId": "99e028b9-a6c2-49b1-9f74-3faa61847c6e"
      },
      "execution_count": 50,
      "outputs": [
        {
          "output_type": "execute_result",
          "data": {
            "text/plain": [
              "     age  menopause  tumor-size  inv-nodes  node-caps deg-malig  breast  \\\n",
              "0      4          0      1012.0        1.0          0         2       1   \n",
              "1      4          0        27.0        1.0          0         3       0   \n",
              "2      2          2        22.0        1.0          0         2       1   \n",
              "3      2          2        22.0        1.0          0         2       0   \n",
              "4      3          0        37.0        1.0          0         2       0   \n",
              "..   ...        ...         ...        ...        ...       ...     ...   \n",
              "223    3          0      1012.0        1.0          0         2       0   \n",
              "224    4          0        37.0     1013.5          1         3       0   \n",
              "225    4          0      1012.0        1.0          0         1       0   \n",
              "226    2          2        37.0        1.0          1         3       1   \n",
              "227    2          0        27.0        1.0          0         2       0   \n",
              "\n",
              "     breast-quad  irradiat  \n",
              "0              2         1  \n",
              "1              3         1  \n",
              "2              2         0  \n",
              "3              0         0  \n",
              "4              2         0  \n",
              "..           ...       ...  \n",
              "223            1         0  \n",
              "224            1         0  \n",
              "225            2         0  \n",
              "226            2         1  \n",
              "227            1         0  \n",
              "\n",
              "[221 rows x 9 columns]"
            ],
            "text/html": [
              "\n",
              "\n",
              "  <div id=\"df-ea5cc04a-0fce-4ad8-9ca5-351335897fe8\">\n",
              "    <div class=\"colab-df-container\">\n",
              "      <div>\n",
              "<style scoped>\n",
              "    .dataframe tbody tr th:only-of-type {\n",
              "        vertical-align: middle;\n",
              "    }\n",
              "\n",
              "    .dataframe tbody tr th {\n",
              "        vertical-align: top;\n",
              "    }\n",
              "\n",
              "    .dataframe thead th {\n",
              "        text-align: right;\n",
              "    }\n",
              "</style>\n",
              "<table border=\"1\" class=\"dataframe\">\n",
              "  <thead>\n",
              "    <tr style=\"text-align: right;\">\n",
              "      <th></th>\n",
              "      <th>age</th>\n",
              "      <th>menopause</th>\n",
              "      <th>tumor-size</th>\n",
              "      <th>inv-nodes</th>\n",
              "      <th>node-caps</th>\n",
              "      <th>deg-malig</th>\n",
              "      <th>breast</th>\n",
              "      <th>breast-quad</th>\n",
              "      <th>irradiat</th>\n",
              "    </tr>\n",
              "  </thead>\n",
              "  <tbody>\n",
              "    <tr>\n",
              "      <th>0</th>\n",
              "      <td>4</td>\n",
              "      <td>0</td>\n",
              "      <td>1012.0</td>\n",
              "      <td>1.0</td>\n",
              "      <td>0</td>\n",
              "      <td>2</td>\n",
              "      <td>1</td>\n",
              "      <td>2</td>\n",
              "      <td>1</td>\n",
              "    </tr>\n",
              "    <tr>\n",
              "      <th>1</th>\n",
              "      <td>4</td>\n",
              "      <td>0</td>\n",
              "      <td>27.0</td>\n",
              "      <td>1.0</td>\n",
              "      <td>0</td>\n",
              "      <td>3</td>\n",
              "      <td>0</td>\n",
              "      <td>3</td>\n",
              "      <td>1</td>\n",
              "    </tr>\n",
              "    <tr>\n",
              "      <th>2</th>\n",
              "      <td>2</td>\n",
              "      <td>2</td>\n",
              "      <td>22.0</td>\n",
              "      <td>1.0</td>\n",
              "      <td>0</td>\n",
              "      <td>2</td>\n",
              "      <td>1</td>\n",
              "      <td>2</td>\n",
              "      <td>0</td>\n",
              "    </tr>\n",
              "    <tr>\n",
              "      <th>3</th>\n",
              "      <td>2</td>\n",
              "      <td>2</td>\n",
              "      <td>22.0</td>\n",
              "      <td>1.0</td>\n",
              "      <td>0</td>\n",
              "      <td>2</td>\n",
              "      <td>0</td>\n",
              "      <td>0</td>\n",
              "      <td>0</td>\n",
              "    </tr>\n",
              "    <tr>\n",
              "      <th>4</th>\n",
              "      <td>3</td>\n",
              "      <td>0</td>\n",
              "      <td>37.0</td>\n",
              "      <td>1.0</td>\n",
              "      <td>0</td>\n",
              "      <td>2</td>\n",
              "      <td>0</td>\n",
              "      <td>2</td>\n",
              "      <td>0</td>\n",
              "    </tr>\n",
              "    <tr>\n",
              "      <th>...</th>\n",
              "      <td>...</td>\n",
              "      <td>...</td>\n",
              "      <td>...</td>\n",
              "      <td>...</td>\n",
              "      <td>...</td>\n",
              "      <td>...</td>\n",
              "      <td>...</td>\n",
              "      <td>...</td>\n",
              "      <td>...</td>\n",
              "    </tr>\n",
              "    <tr>\n",
              "      <th>223</th>\n",
              "      <td>3</td>\n",
              "      <td>0</td>\n",
              "      <td>1012.0</td>\n",
              "      <td>1.0</td>\n",
              "      <td>0</td>\n",
              "      <td>2</td>\n",
              "      <td>0</td>\n",
              "      <td>1</td>\n",
              "      <td>0</td>\n",
              "    </tr>\n",
              "    <tr>\n",
              "      <th>224</th>\n",
              "      <td>4</td>\n",
              "      <td>0</td>\n",
              "      <td>37.0</td>\n",
              "      <td>1013.5</td>\n",
              "      <td>1</td>\n",
              "      <td>3</td>\n",
              "      <td>0</td>\n",
              "      <td>1</td>\n",
              "      <td>0</td>\n",
              "    </tr>\n",
              "    <tr>\n",
              "      <th>225</th>\n",
              "      <td>4</td>\n",
              "      <td>0</td>\n",
              "      <td>1012.0</td>\n",
              "      <td>1.0</td>\n",
              "      <td>0</td>\n",
              "      <td>1</td>\n",
              "      <td>0</td>\n",
              "      <td>2</td>\n",
              "      <td>0</td>\n",
              "    </tr>\n",
              "    <tr>\n",
              "      <th>226</th>\n",
              "      <td>2</td>\n",
              "      <td>2</td>\n",
              "      <td>37.0</td>\n",
              "      <td>1.0</td>\n",
              "      <td>1</td>\n",
              "      <td>3</td>\n",
              "      <td>1</td>\n",
              "      <td>2</td>\n",
              "      <td>1</td>\n",
              "    </tr>\n",
              "    <tr>\n",
              "      <th>227</th>\n",
              "      <td>2</td>\n",
              "      <td>0</td>\n",
              "      <td>27.0</td>\n",
              "      <td>1.0</td>\n",
              "      <td>0</td>\n",
              "      <td>2</td>\n",
              "      <td>0</td>\n",
              "      <td>1</td>\n",
              "      <td>0</td>\n",
              "    </tr>\n",
              "  </tbody>\n",
              "</table>\n",
              "<p>221 rows × 9 columns</p>\n",
              "</div>\n",
              "      <button class=\"colab-df-convert\" onclick=\"convertToInteractive('df-ea5cc04a-0fce-4ad8-9ca5-351335897fe8')\"\n",
              "              title=\"Convert this dataframe to an interactive table.\"\n",
              "              style=\"display:none;\">\n",
              "\n",
              "  <svg xmlns=\"http://www.w3.org/2000/svg\" height=\"24px\"viewBox=\"0 0 24 24\"\n",
              "       width=\"24px\">\n",
              "    <path d=\"M0 0h24v24H0V0z\" fill=\"none\"/>\n",
              "    <path d=\"M18.56 5.44l.94 2.06.94-2.06 2.06-.94-2.06-.94-.94-2.06-.94 2.06-2.06.94zm-11 1L8.5 8.5l.94-2.06 2.06-.94-2.06-.94L8.5 2.5l-.94 2.06-2.06.94zm10 10l.94 2.06.94-2.06 2.06-.94-2.06-.94-.94-2.06-.94 2.06-2.06.94z\"/><path d=\"M17.41 7.96l-1.37-1.37c-.4-.4-.92-.59-1.43-.59-.52 0-1.04.2-1.43.59L10.3 9.45l-7.72 7.72c-.78.78-.78 2.05 0 2.83L4 21.41c.39.39.9.59 1.41.59.51 0 1.02-.2 1.41-.59l7.78-7.78 2.81-2.81c.8-.78.8-2.07 0-2.86zM5.41 20L4 18.59l7.72-7.72 1.47 1.35L5.41 20z\"/>\n",
              "  </svg>\n",
              "      </button>\n",
              "\n",
              "\n",
              "\n",
              "    <div id=\"df-9d040721-c640-4a77-acef-52dc77d113fe\">\n",
              "      <button class=\"colab-df-quickchart\" onclick=\"quickchart('df-9d040721-c640-4a77-acef-52dc77d113fe')\"\n",
              "              title=\"Suggest charts.\"\n",
              "              style=\"display:none;\">\n",
              "\n",
              "<svg xmlns=\"http://www.w3.org/2000/svg\" height=\"24px\"viewBox=\"0 0 24 24\"\n",
              "     width=\"24px\">\n",
              "    <g>\n",
              "        <path d=\"M19 3H5c-1.1 0-2 .9-2 2v14c0 1.1.9 2 2 2h14c1.1 0 2-.9 2-2V5c0-1.1-.9-2-2-2zM9 17H7v-7h2v7zm4 0h-2V7h2v10zm4 0h-2v-4h2v4z\"/>\n",
              "    </g>\n",
              "</svg>\n",
              "      </button>\n",
              "    </div>\n",
              "\n",
              "<style>\n",
              "  .colab-df-quickchart {\n",
              "    background-color: #E8F0FE;\n",
              "    border: none;\n",
              "    border-radius: 50%;\n",
              "    cursor: pointer;\n",
              "    display: none;\n",
              "    fill: #1967D2;\n",
              "    height: 32px;\n",
              "    padding: 0 0 0 0;\n",
              "    width: 32px;\n",
              "  }\n",
              "\n",
              "  .colab-df-quickchart:hover {\n",
              "    background-color: #E2EBFA;\n",
              "    box-shadow: 0px 1px 2px rgba(60, 64, 67, 0.3), 0px 1px 3px 1px rgba(60, 64, 67, 0.15);\n",
              "    fill: #174EA6;\n",
              "  }\n",
              "\n",
              "  [theme=dark] .colab-df-quickchart {\n",
              "    background-color: #3B4455;\n",
              "    fill: #D2E3FC;\n",
              "  }\n",
              "\n",
              "  [theme=dark] .colab-df-quickchart:hover {\n",
              "    background-color: #434B5C;\n",
              "    box-shadow: 0px 1px 3px 1px rgba(0, 0, 0, 0.15);\n",
              "    filter: drop-shadow(0px 1px 2px rgba(0, 0, 0, 0.3));\n",
              "    fill: #FFFFFF;\n",
              "  }\n",
              "</style>\n",
              "\n",
              "    <script>\n",
              "      async function quickchart(key) {\n",
              "        const containerElement = document.querySelector('#' + key);\n",
              "        const charts = await google.colab.kernel.invokeFunction(\n",
              "            'suggestCharts', [key], {});\n",
              "      }\n",
              "    </script>\n",
              "\n",
              "      <script>\n",
              "\n",
              "function displayQuickchartButton(domScope) {\n",
              "  let quickchartButtonEl =\n",
              "    domScope.querySelector('#df-9d040721-c640-4a77-acef-52dc77d113fe button.colab-df-quickchart');\n",
              "  quickchartButtonEl.style.display =\n",
              "    google.colab.kernel.accessAllowed ? 'block' : 'none';\n",
              "}\n",
              "\n",
              "        displayQuickchartButton(document);\n",
              "      </script>\n",
              "      <style>\n",
              "    .colab-df-container {\n",
              "      display:flex;\n",
              "      flex-wrap:wrap;\n",
              "      gap: 12px;\n",
              "    }\n",
              "\n",
              "    .colab-df-convert {\n",
              "      background-color: #E8F0FE;\n",
              "      border: none;\n",
              "      border-radius: 50%;\n",
              "      cursor: pointer;\n",
              "      display: none;\n",
              "      fill: #1967D2;\n",
              "      height: 32px;\n",
              "      padding: 0 0 0 0;\n",
              "      width: 32px;\n",
              "    }\n",
              "\n",
              "    .colab-df-convert:hover {\n",
              "      background-color: #E2EBFA;\n",
              "      box-shadow: 0px 1px 2px rgba(60, 64, 67, 0.3), 0px 1px 3px 1px rgba(60, 64, 67, 0.15);\n",
              "      fill: #174EA6;\n",
              "    }\n",
              "\n",
              "    [theme=dark] .colab-df-convert {\n",
              "      background-color: #3B4455;\n",
              "      fill: #D2E3FC;\n",
              "    }\n",
              "\n",
              "    [theme=dark] .colab-df-convert:hover {\n",
              "      background-color: #434B5C;\n",
              "      box-shadow: 0px 1px 3px 1px rgba(0, 0, 0, 0.15);\n",
              "      filter: drop-shadow(0px 1px 2px rgba(0, 0, 0, 0.3));\n",
              "      fill: #FFFFFF;\n",
              "    }\n",
              "  </style>\n",
              "\n",
              "      <script>\n",
              "        const buttonEl =\n",
              "          document.querySelector('#df-ea5cc04a-0fce-4ad8-9ca5-351335897fe8 button.colab-df-convert');\n",
              "        buttonEl.style.display =\n",
              "          google.colab.kernel.accessAllowed ? 'block' : 'none';\n",
              "\n",
              "        async function convertToInteractive(key) {\n",
              "          const element = document.querySelector('#df-ea5cc04a-0fce-4ad8-9ca5-351335897fe8');\n",
              "          const dataTable =\n",
              "            await google.colab.kernel.invokeFunction('convertToInteractive',\n",
              "                                                     [key], {});\n",
              "          if (!dataTable) return;\n",
              "\n",
              "          const docLinkHtml = 'Like what you see? Visit the ' +\n",
              "            '<a target=\"_blank\" href=https://colab.research.google.com/notebooks/data_table.ipynb>data table notebook</a>'\n",
              "            + ' to learn more about interactive tables.';\n",
              "          element.innerHTML = '';\n",
              "          dataTable['output_type'] = 'display_data';\n",
              "          await google.colab.output.renderOutput(dataTable, element);\n",
              "          const docLink = document.createElement('div');\n",
              "          docLink.innerHTML = docLinkHtml;\n",
              "          element.appendChild(docLink);\n",
              "        }\n",
              "      </script>\n",
              "    </div>\n",
              "  </div>\n"
            ]
          },
          "metadata": {},
          "execution_count": 50
        }
      ]
    },
    {
      "cell_type": "code",
      "source": [
        "# Create model, starting with Logistic Regression\n",
        "from sklearn.preprocessing import StandardScaler\n",
        "# Create a StandardScaler object\n",
        "scaler = StandardScaler()\n",
        "# Fit the scaler to the data and transform the data\n",
        "X_train_scaled = scaler.fit_transform(X_train)\n",
        "#Initialise model\n",
        "classifier = LogisticRegression(max_iter=1000)"
      ],
      "metadata": {
        "id": "an3_Xx_Bqlpm"
      },
      "execution_count": 51,
      "outputs": []
    },
    {
      "cell_type": "code",
      "source": [
        "#Train model\n",
        "classifier.fit(X_train_scaled, y_train)\n",
        "#Define new variable values to predict, this can be modified to test all models on unseen data.\n",
        "age_pred = 34.5\n",
        "menopause_pred = 1\n",
        "tumor_pred = 17\n",
        "inv_nodes_pred = 2\n",
        "node_caps_pred = 0\n",
        "deg_malig_pred = 1\n",
        "breast_pred = 4\n",
        "breast_quad_pred = 0\n",
        "irradiat_pred = 0"
      ],
      "metadata": {
        "id": "zpbjI3mNaEos"
      },
      "execution_count": 52,
      "outputs": []
    },
    {
      "cell_type": "code",
      "source": [
        "X_test, y_test = my_model.preprocess_test_data(X_test_split, y_test_split)"
      ],
      "metadata": {
        "id": "LifEwWAtZ5Es"
      },
      "execution_count": 53,
      "outputs": []
    },
    {
      "cell_type": "markdown",
      "source": [
        "Use your model to make a prediction on unseen data"
      ],
      "metadata": {
        "id": "GLe6OoIYcfcD"
      }
    },
    {
      "cell_type": "code",
      "source": [
        "X_test_scaled = scaler.fit_transform(X_test)\n",
        "\n",
        "# Predict a new result with logistic regression,0 for no-recurrence-event and 1 for recurrence-event\n",
        "print(classifier.predict(scaler.transform([[\n",
        "  age_pred,\n",
        "  menopause_pred,\n",
        "  tumor_pred,\n",
        "  inv_nodes_pred,\n",
        "  node_caps_pred,\n",
        "  deg_malig_pred,\n",
        "  breast_pred,\n",
        "  breast_quad_pred,\n",
        "  irradiat_pred\n",
        "  ]])))\n",
        "\n",
        "# Predict test set result, 0 for no-recurrence-event and 1 for recurrence-event\n",
        "y_pred = classifier.predict(X_test_scaled)\n",
        "\n",
        "# Print Confusion Matrix and Accuracy Score for model performance on test data\n",
        "cm = confusion_matrix(y_test, y_pred)\n",
        "print(cm)\n",
        "accuracy = accuracy_score(y_test,y_pred)\n",
        "print(f'Logistic Regression Accuracy: {accuracy:.2f}')"
      ],
      "metadata": {
        "colab": {
          "base_uri": "https://localhost:8080/"
        },
        "id": "JdK1gGlaaCja",
        "outputId": "50bb9fbe-f161-4ee6-e9d9-270a35e28003"
      },
      "execution_count": 64,
      "outputs": [
        {
          "output_type": "stream",
          "name": "stdout",
          "text": [
            "[0]\n",
            "[[36  0]\n",
            " [13  7]]\n",
            "Logistic Regression Accuracy: 0.77\n"
          ]
        },
        {
          "output_type": "stream",
          "name": "stderr",
          "text": [
            "/usr/local/lib/python3.10/dist-packages/sklearn/base.py:439: UserWarning: X does not have valid feature names, but StandardScaler was fitted with feature names\n",
            "  warnings.warn(\n"
          ]
        }
      ]
    },
    {
      "cell_type": "markdown",
      "source": [
        "## **Alternative Models**"
      ],
      "metadata": {
        "id": "iZMWbOFrowvM"
      }
    },
    {
      "cell_type": "markdown",
      "source": [
        "K Nearest Neighbour"
      ],
      "metadata": {
        "id": "gBlKWbkjnBXP"
      }
    },
    {
      "cell_type": "code",
      "source": [
        "# Fit KNN model to the training data\n",
        "knn = KNeighborsClassifier(n_neighbors=7, p=2, weights='uniform')\n",
        "knn.fit(X_train, y_train)\n",
        "\n",
        "# Predict a new result with KNN, 0 for no-recurrence-event and 1 for recurrence-event\n",
        "print(knn.predict(scaler.transform([[\n",
        "  age_pred,\n",
        "  menopause_pred,\n",
        "  tumor_pred,\n",
        "  inv_nodes_pred,\n",
        "  node_caps_pred,\n",
        "  deg_malig_pred,\n",
        "  breast_pred,\n",
        "  breast_quad_pred,\n",
        "  irradiat_pred\n",
        "  ]])))\n",
        "\n",
        "# Predict test set result\n",
        "y_pred = knn.predict(X_test)\n",
        "# Print Confusion Matrix and Accuracy Score for model performance on test data\n",
        "cm = confusion_matrix(y_test, y_pred)\n",
        "print(cm)\n",
        "accuracy = accuracy_score(y_test,y_pred)\n",
        "print(f'KNN Accuracy: {accuracy:.2f}')"
      ],
      "metadata": {
        "colab": {
          "base_uri": "https://localhost:8080/"
        },
        "id": "P85xf2jgbXxz",
        "outputId": "19671120-f2f8-433a-a445-8f735b26a0a6"
      },
      "execution_count": 65,
      "outputs": [
        {
          "output_type": "stream",
          "name": "stdout",
          "text": [
            "[0]\n",
            "[[34  2]\n",
            " [15  5]]\n",
            "KNN Accuracy: 0.70\n"
          ]
        },
        {
          "output_type": "stream",
          "name": "stderr",
          "text": [
            "/usr/local/lib/python3.10/dist-packages/sklearn/base.py:439: UserWarning: X does not have valid feature names, but StandardScaler was fitted with feature names\n",
            "  warnings.warn(\n",
            "/usr/local/lib/python3.10/dist-packages/sklearn/base.py:439: UserWarning: X does not have valid feature names, but KNeighborsClassifier was fitted with feature names\n",
            "  warnings.warn(\n"
          ]
        }
      ]
    },
    {
      "cell_type": "markdown",
      "source": [
        "SVM"
      ],
      "metadata": {
        "id": "QTBQw7imoClD"
      }
    },
    {
      "cell_type": "code",
      "source": [
        "# Fit SVM model to the training data\n",
        "sv = SVC(kernel = 'linear', random_state = 0)\n",
        "sv.fit(X_train, y_train)\n",
        "\n",
        "# Predict a new result with SVM, 0 for no-recurrence-event and 1 for recurrence-event\n",
        "print(sv.predict(scaler.transform([[\n",
        "  age_pred,\n",
        "  menopause_pred,\n",
        "  tumor_pred,\n",
        "  inv_nodes_pred,\n",
        "  node_caps_pred,\n",
        "  deg_malig_pred,\n",
        "  breast_pred,\n",
        "  breast_quad_pred,\n",
        "  irradiat_pred\n",
        "  ]])))\n",
        "\n",
        "# Predict test set results\n",
        "y_pred = sv.predict(X_test)\n",
        "\n",
        "# Print Confusion Matrix and Accuracy Score for model performance on test data\n",
        "cm = confusion_matrix(y_test, y_pred)\n",
        "print(cm)\n",
        "accuracy = accuracy_score(y_test,y_pred)\n",
        "print(f'SVM Accuracy: {accuracy:.2f}')"
      ],
      "metadata": {
        "colab": {
          "base_uri": "https://localhost:8080/"
        },
        "id": "-A9lBTl4oCT1",
        "outputId": "b2d94174-3ca1-4f1f-ac25-9625db009764"
      },
      "execution_count": 66,
      "outputs": [
        {
          "output_type": "stream",
          "name": "stdout",
          "text": [
            "[0]\n",
            "[[33  3]\n",
            " [12  8]]\n",
            "SVM Accuracy: 0.73\n"
          ]
        },
        {
          "output_type": "stream",
          "name": "stderr",
          "text": [
            "/usr/local/lib/python3.10/dist-packages/sklearn/base.py:439: UserWarning: X does not have valid feature names, but StandardScaler was fitted with feature names\n",
            "  warnings.warn(\n",
            "/usr/local/lib/python3.10/dist-packages/sklearn/base.py:439: UserWarning: X does not have valid feature names, but SVC was fitted with feature names\n",
            "  warnings.warn(\n"
          ]
        }
      ]
    },
    {
      "cell_type": "markdown",
      "source": [
        "Kernel SVM"
      ],
      "metadata": {
        "id": "lNzWRTMXoHtq"
      }
    },
    {
      "cell_type": "code",
      "source": [
        "# Fit Kernel SVM model to the training data\n",
        "ksv = SVC(kernel = 'poly',degree = 3,random_state = 0)\n",
        "ksv.fit(X_train, y_train)\n",
        "\n",
        "# Predict a new result with Kernel SVM,0 for no-recurrence-event and 1 for recurrence-event\n",
        "print(ksv.predict(scaler.transform([[\n",
        "  age_pred,\n",
        "  menopause_pred,\n",
        "  tumor_pred,\n",
        "  inv_nodes_pred,\n",
        "  node_caps_pred,\n",
        "  deg_malig_pred,\n",
        "  breast_pred,\n",
        "  breast_quad_pred,\n",
        "  irradiat_pred\n",
        "  ]])))\n",
        "\n",
        "# Predict test set results\n",
        "y_pred = ksv.predict(X_test)\n",
        "\n",
        "# Print Confusion Matrix and Accuracy Score for model performance on test data\n",
        "cm = confusion_matrix(y_test, y_pred)\n",
        "print(cm)\n",
        "accuracy = accuracy_score(y_test,y_pred)\n",
        "print(f'Kernel SVM Accuracy: {accuracy:.2f}')"
      ],
      "metadata": {
        "colab": {
          "base_uri": "https://localhost:8080/"
        },
        "id": "BpsC_mymoHgX",
        "outputId": "4f3a9495-29de-4dc9-fdf1-a173598d53cb"
      },
      "execution_count": 67,
      "outputs": [
        {
          "output_type": "stream",
          "name": "stdout",
          "text": [
            "[0]\n",
            "[[33  3]\n",
            " [12  8]]\n",
            "Kernel SVM Accuracy: 0.73\n"
          ]
        },
        {
          "output_type": "stream",
          "name": "stderr",
          "text": [
            "/usr/local/lib/python3.10/dist-packages/sklearn/base.py:439: UserWarning: X does not have valid feature names, but StandardScaler was fitted with feature names\n",
            "  warnings.warn(\n",
            "/usr/local/lib/python3.10/dist-packages/sklearn/base.py:439: UserWarning: X does not have valid feature names, but SVC was fitted with feature names\n",
            "  warnings.warn(\n"
          ]
        }
      ]
    },
    {
      "cell_type": "markdown",
      "source": [
        "Naive Bayes"
      ],
      "metadata": {
        "id": "jQzckjpFoPVX"
      }
    },
    {
      "cell_type": "code",
      "source": [
        "# Fit Naive model to the training data\n",
        "gauss = GaussianNB()\n",
        "gauss.fit(X_train, y_train)\n",
        "\n",
        "# Predict a new result with Naive Bayes, 0 for no-recurrence-event and 1 for recurrence-event\n",
        "print(gauss.predict(scaler.transform([[\n",
        "  age_pred,\n",
        "  menopause_pred,\n",
        "  tumor_pred,\n",
        "  inv_nodes_pred,\n",
        "  node_caps_pred,\n",
        "  deg_malig_pred,\n",
        "  breast_pred,\n",
        "  breast_quad_pred,\n",
        "  irradiat_pred\n",
        "  ]])))\n",
        "\n",
        "# Predict test set results\n",
        "y_pred = gauss.predict(X_test)\n",
        "\n",
        "# Print Confusion Matrix and Accuracy Score for model performance on test data\n",
        "cm = confusion_matrix(y_test, y_pred)\n",
        "print(cm)\n",
        "accuracy = accuracy_score(y_test,y_pred)\n",
        "print(f'Naive Bayes Accuracy: {accuracy:.2f}')"
      ],
      "metadata": {
        "colab": {
          "base_uri": "https://localhost:8080/"
        },
        "id": "XP2dnVx0oPKt",
        "outputId": "1766087f-4b72-494e-d578-df425a911cd0"
      },
      "execution_count": 68,
      "outputs": [
        {
          "output_type": "stream",
          "name": "stdout",
          "text": [
            "[0]\n",
            "[[16 20]\n",
            " [ 5 15]]\n",
            "Naive Bayes Accuracy: 0.55\n"
          ]
        },
        {
          "output_type": "stream",
          "name": "stderr",
          "text": [
            "/usr/local/lib/python3.10/dist-packages/sklearn/base.py:439: UserWarning: X does not have valid feature names, but StandardScaler was fitted with feature names\n",
            "  warnings.warn(\n",
            "/usr/local/lib/python3.10/dist-packages/sklearn/base.py:439: UserWarning: X does not have valid feature names, but GaussianNB was fitted with feature names\n",
            "  warnings.warn(\n"
          ]
        }
      ]
    },
    {
      "cell_type": "markdown",
      "source": [
        "Decision Tree"
      ],
      "metadata": {
        "id": "Fg2cCyWBoYhf"
      }
    },
    {
      "cell_type": "code",
      "source": [
        "# Create a DecisionTreeClassifier object\n",
        "dtc = DecisionTreeClassifier()\n",
        "\n",
        "# Define the parameter grid for the grid search\n",
        "param_grid = {'criterion': ['gini','entropy'],\n",
        "              'max_depth': [2, 4, 6, 8, 10],\n",
        "              'min_samples_split': [2, 4, 6, 8, 10],\n",
        "              'min_samples_leaf': [1, 2, 3, 4, 5]}\n",
        "\n",
        "# Create a GridSearchCV object\n",
        "grid_search = GridSearchCV(estimator=dtc, param_grid=param_grid, cv=5, n_jobs=-1)\n",
        "\n",
        "# Fit the grid search to the training data\n",
        "grid_search.fit(X_train, y_train)\n",
        "\n",
        "# Use the best hyperparameters to create a new decision tree classifier\n",
        "dtc = DecisionTreeClassifier(**grid_search.best_params_)\n",
        "\n",
        "# Fit the new classifier to the training data\n",
        "dtc.fit(X_train, y_train)\n",
        "\n",
        "# Predict a new result with Decision Tree Classifier, 0 for no-recurrence-event and 1 for recurrence-event\n",
        "print(dtc.predict(scaler.transform([[\n",
        "  age_pred,\n",
        "  menopause_pred,\n",
        "  tumor_pred,\n",
        "  inv_nodes_pred,\n",
        "  node_caps_pred,\n",
        "  deg_malig_pred,\n",
        "  breast_pred,\n",
        "  breast_quad_pred,\n",
        "  irradiat_pred\n",
        "  ]])))\n",
        "\n",
        "# Predict test set results\n",
        "y_pred = dtc.predict(X_test)\n",
        "\n",
        "# Print Confusion Matrix and Accuracy Score for model performance on test data\n",
        "cm = confusion_matrix(y_test, y_pred)\n",
        "print(cm)\n",
        "accuracy = accuracy_score(y_test, y_pred)\n",
        "print(f'Decision Tree Classifier Accuracy: {accuracy:.2f}')"
      ],
      "metadata": {
        "colab": {
          "base_uri": "https://localhost:8080/"
        },
        "id": "PAms-LjmoYOF",
        "outputId": "b3eae32d-ba87-4b63-994c-e7ac6520bb1c"
      },
      "execution_count": 69,
      "outputs": [
        {
          "output_type": "stream",
          "name": "stdout",
          "text": [
            "[0]\n",
            "[[36  0]\n",
            " [15  5]]\n",
            "Decision Tree Classifier Accuracy: 0.73\n"
          ]
        },
        {
          "output_type": "stream",
          "name": "stderr",
          "text": [
            "/usr/local/lib/python3.10/dist-packages/sklearn/base.py:439: UserWarning: X does not have valid feature names, but StandardScaler was fitted with feature names\n",
            "  warnings.warn(\n",
            "/usr/local/lib/python3.10/dist-packages/sklearn/base.py:439: UserWarning: X does not have valid feature names, but DecisionTreeClassifier was fitted with feature names\n",
            "  warnings.warn(\n"
          ]
        }
      ]
    },
    {
      "cell_type": "markdown",
      "source": [
        "Random Forest"
      ],
      "metadata": {
        "id": "RJigxgwfog5f"
      }
    },
    {
      "cell_type": "code",
      "source": [
        "# Fit Random Forest Classifier model to the training data\n",
        "rfc = RandomForestClassifier(n_estimators = 10, criterion = 'entropy',random_state=1)\n",
        "rfc.fit(X_train, y_train)\n",
        "\n",
        "# Predict a new result with Random Forest Classifier, 0 for no-recurrence-event and 1 for recurrence-event\n",
        "print(rfc.predict(scaler.transform([[\n",
        "  age_pred,\n",
        "  menopause_pred,\n",
        "  tumor_pred,\n",
        "  inv_nodes_pred,\n",
        "  node_caps_pred,\n",
        "  deg_malig_pred,\n",
        "  breast_pred,\n",
        "  breast_quad_pred,\n",
        "  irradiat_pred\n",
        "  ]])))\n",
        "\n",
        "# Predict test set results\n",
        "y_pred = rfc.predict(X_test)\n",
        "\n",
        "# Print Confusion Matrix and Accuracy Score for model performance on test data\n",
        "cm = confusion_matrix(y_test, y_pred)\n",
        "print(cm)\n",
        "accuracy = accuracy_score(y_test,y_pred)\n",
        "print(f'Random Forest Classifier Accuracy: {accuracy:.2f}')"
      ],
      "metadata": {
        "colab": {
          "base_uri": "https://localhost:8080/"
        },
        "id": "CYzFAX6UoguU",
        "outputId": "c7bbdf62-cdce-4746-8982-0ac9a17ddc48"
      },
      "execution_count": 70,
      "outputs": [
        {
          "output_type": "stream",
          "name": "stdout",
          "text": [
            "[0]\n",
            "[[34  2]\n",
            " [13  7]]\n",
            "Random Forest Classifier Accuracy: 0.73\n"
          ]
        },
        {
          "output_type": "stream",
          "name": "stderr",
          "text": [
            "/usr/local/lib/python3.10/dist-packages/sklearn/base.py:439: UserWarning: X does not have valid feature names, but StandardScaler was fitted with feature names\n",
            "  warnings.warn(\n",
            "/usr/local/lib/python3.10/dist-packages/sklearn/base.py:439: UserWarning: X does not have valid feature names, but RandomForestClassifier was fitted with feature names\n",
            "  warnings.warn(\n"
          ]
        }
      ]
    },
    {
      "cell_type": "code",
      "source": [
        "# Asssess the accuracy of your model and explain your key findings\n",
        "#The best performing model was linear regression at 0.77 accuracy score, possibly because it was dealing with a small dataset.\n",
        "#The worst performing model was Naive Bayes at 0.55 accuracy score, possibly due to its assumption that all features are independant, which is highly unlikely to be true in a medical context where there are often strong relationships between the variables.\n",
        "#Most other moedels performed between 0.7 to 0.73\n",
        "#In the original code I used a test size of 0.3 rather than 0.2. However, I compared this against a size of 0.2 and found that 0.3 achieved a lower accuracy score\n",
        "#The dataset is relatively small. This has likely resulted in overfitting, therefore despite the high bias towards no-recurrence-events.\n"
      ],
      "metadata": {
        "id": "UIxH-cVTpXBc"
      },
      "execution_count": null,
      "outputs": []
    },
    {
      "cell_type": "markdown",
      "source": [
        "Unit tests:\n",
        "\n",
        "Checking training and test data for null values. This will work for both pd dataframes and np arrays, and ensures no null values exist."
      ],
      "metadata": {
        "id": "6gLnrnvfpYpE"
      }
    },
    {
      "cell_type": "code",
      "source": [
        "def test_no_nulls(data):\n",
        "    \"\"\" Assert no null values within pd dataframe or np array \"\"\"\n",
        "\n",
        "    # if data is numpy array, handle accordingly\n",
        "    if isinstance(data, (np.ndarray)):\n",
        "        assert not np.isnan(np.min(data))\n",
        "\n",
        "    # if not np array, assume data is pandas dataframe\n",
        "    else:\n",
        "        assert data.isna().sum().sum() == 0\n"
      ],
      "metadata": {
        "id": "_L7fJTOBplSL"
      },
      "execution_count": 35,
      "outputs": []
    },
    {
      "cell_type": "code",
      "source": [
        "# run null data unit test on both training and test data\n",
        "test_no_nulls(X_train)\n",
        "test_no_nulls(X_test)"
      ],
      "metadata": {
        "id": "57FcICGWpnJq"
      },
      "execution_count": 36,
      "outputs": []
    }
  ]
}