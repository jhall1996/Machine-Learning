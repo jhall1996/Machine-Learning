{
  "nbformat": 4,
  "nbformat_minor": 0,
  "metadata": {
    "colab": {
      "provenance": []
    },
    "kernelspec": {
      "name": "python3",
      "display_name": "Python 3"
    },
    "language_info": {
      "name": "python"
    }
  },
  "cells": [
    {
      "cell_type": "code",
      "execution_count": 1,
      "metadata": {
        "colab": {
          "base_uri": "https://localhost:8080/"
        },
        "id": "NVhCBSjE87N8",
        "outputId": "affa0414-7c4d-49c6-c9b6-a4bbf7fc02f7"
      },
      "outputs": [
        {
          "output_type": "stream",
          "name": "stdout",
          "text": [
            "Mounted at /content/gdrive/\n"
          ]
        }
      ],
      "source": [
        "# Fixed dependencies - do not remove or change.\n",
        "import pytest\n",
        "import pandas as pd\n",
        "import numpy as np\n",
        "from google.colab import drive\n",
        "drive.mount('/content/gdrive/')\n",
        "# Import your dependencies\n",
        "import matplotlib.pyplot as plt\n",
        "from sklearn.compose import ColumnTransformer\n",
        "from sklearn.preprocessing import LabelEncoder\n",
        "from sklearn.preprocessing import StandardScaler\n",
        "from sklearn.linear_model import LogisticRegression\n",
        "from sklearn.neighbors import KNeighborsClassifier\n",
        "from sklearn.svm import SVC\n",
        "from sklearn.naive_bayes import GaussianNB\n",
        "from sklearn.tree import DecisionTreeClassifier\n",
        "from sklearn.ensemble import RandomForestClassifier\n",
        "from sklearn.model_selection import train_test_split\n",
        "from sklearn.metrics import accuracy_score\n",
        "from sklearn.metrics import confusion_matrix\n",
        "from matplotlib.colors import ListedColormap\n",
        "import seaborn as sns\n",
        "from sklearn.model_selection import GridSearchCV"
      ]
    },
    {
      "cell_type": "code",
      "source": [
        "# Import data\n",
        "def import_local_data(file_path):\n",
        "\n",
        "    raw_df = pd.read_excel(file_path)\n",
        "\n",
        "    return raw_df"
      ],
      "metadata": {
        "id": "Q0wRA8-89CEA"
      },
      "execution_count": 2,
      "outputs": []
    },
    {
      "cell_type": "code",
      "source": [
        "local_file_path = 'https://github.com/jhall1996/Machine-Learning/blob/main/breast-cancer.xls?raw=true'"
      ],
      "metadata": {
        "id": "5AJ10ZyG9H85"
      },
      "execution_count": 3,
      "outputs": []
    },
    {
      "cell_type": "code",
      "source": [
        "# Dont change\n",
        "raw_data = import_local_data(local_file_path)"
      ],
      "metadata": {
        "id": "jDv8EJH69Hzd"
      },
      "execution_count": 4,
      "outputs": []
    },
    {
      "cell_type": "markdown",
      "source": [
        "Conduct exploratory data analysis and explain your key findings - Examine the data, explain its key features and what they look like. Highlight any fields that are anomalous."
      ],
      "metadata": {
        "id": "A2Xs1tEZCuoy"
      }
    },
    {
      "cell_type": "code",
      "source": [
        "# Explain your key findings\n",
        "# 286 entries were identified within the dataset\n",
        "# Within the age column, there are age ranges. These will need to be transformed to record the median of each range.\n",
        "# Tumour size column includes invalid data entries (dates rather than numeric values). These will be imputed with the mean value.\n",
        "# Node cap and breast quad columns includes invalid data entries (question marks). As these entries are small in numnber the rows including them will be removed from the dataset.\n",
        "# There is a higher bias towards no-recurrence-events within the target variable, therefore we will use a larger test size (0.3, usually it would be 0.2)\n",
        "# Update, see end results for the justification for reversing this decision and using a test size of 0.2\n"
      ],
      "metadata": {
        "id": "ojrUqkWoCoQ9"
      },
      "execution_count": null,
      "outputs": []
    },
    {
      "cell_type": "markdown",
      "source": [
        "Create any data pre-processing that you will conduct on seen and unseen data. Regardless of the model you use, this dataframe must contain only numeric features and have a strategy for any expected missing values. Any objects can that are needed to handle the test data that are dependent on the training data can be stored in the model class. You are recommended to use sklearn Pipelines or similar functionality to ensure reproducibility."
      ],
      "metadata": {
        "id": "xCBQ-ITAC2ys"
      }
    },
    {
      "cell_type": "code",
      "source": [
        "X = raw_data.iloc[:, :-1].values\n",
        "y = raw_data.iloc[:, -1].values\n",
        "X_train_split, X_test_split, y_train_split, y_test_split = train_test_split(X, y, test_size = 0.2, random_state = 0)"
      ],
      "metadata": {
        "id": "ivVBHzKmGxRJ"
      },
      "execution_count": 45,
      "outputs": []
    },
    {
      "cell_type": "code",
      "source": [
        "class Module4_Model:\n",
        "\n",
        "    def __init__(self):\n",
        "        self.model = None\n",
        "        self.label_encoder = LabelEncoder()\n",
        "\n",
        "    def preprocess_training_data(self, training_df, train_labels):\n",
        "\n",
        "        # Convert NumPy array to a DataFrame\n",
        "        df = pd.DataFrame(training_df, columns=['age', 'menopause', 'tumor-size', 'inv-nodes', 'node-caps', 'deg-malig',\n",
        "                                                 'breast', 'breast-quad', 'irradiat'])\n",
        "\n",
        "        # Concatenate features and labels into a single DataFrame\n",
        "        df = pd.concat([df, pd.DataFrame(train_labels, columns=['Class'])], axis=1)\n",
        "\n",
        "        # Create a LabelEncoder object\n",
        "        le = LabelEncoder()\n",
        "\n",
        "        # Convert 'age', 'tumor-size', and 'inv-nodes' columns to string representation\n",
        "        df['age'] = df['age'].astype(str)\n",
        "        df['tumor-size'] = df['tumor-size'].astype(str)\n",
        "        df['inv-nodes'] = df['inv-nodes'].astype(str)\n",
        "\n",
        "        # Split 'age' column into two columns and convert them to numeric values\n",
        "        age_ranges = df['age'].str.split('-', expand=True).apply(pd.to_numeric, errors='coerce')\n",
        "        df['age'] = age_ranges.mean(axis=1, skipna=True)\n",
        "        df['age'] = df['age'].fillna(df['age'].mean())\n",
        "\n",
        "        # Encode 'age' column as integer values\n",
        "        df['age'] = le.fit_transform(df['age'])\n",
        "\n",
        "        # Encode 'menopause' column as integer values\n",
        "        df['menopause'] = le.fit_transform(df['menopause'])\n",
        "\n",
        "        # Split the 'tumor-size' column into two columns and convert them to numeric values\n",
        "        tumor_ranges = df['tumor-size'].str.split('-', expand=True).apply(pd.to_numeric, errors='coerce')\n",
        "        df['tumor-size'] = tumor_ranges.mean(axis=1, skipna=True)\n",
        "        df['tumor-size'] = df['tumor-size'].fillna(df['tumor-size'].mean())\n",
        "\n",
        "        # Split the 'inv-nodes' column into two columns and convert them to numeric values\n",
        "        inv_ranges = df['inv-nodes'].str.split('-', expand=True).apply(pd.to_numeric, errors='coerce')\n",
        "        df['inv-nodes'] = inv_ranges.mean(axis=1, skipna=True)\n",
        "        df['inv-nodes'] = df['inv-nodes'].fillna(df['inv-nodes'].mean())\n",
        "\n",
        "        # Remove rows with a \"?\" in the \"node-caps\" column\n",
        "        df = df[df[\"node-caps\"] != \"?\"]\n",
        "        # Encode \"node-caps\" column as integer values\n",
        "        df[\"node-caps\"] = le.fit_transform(df[\"node-caps\"])\n",
        "\n",
        "        # Encode \"breast\" column as integer values\n",
        "        df[\"breast\"] = le.fit_transform(df[\"breast\"])\n",
        "\n",
        "        # Remove any rows with a \"?\" in the \"breast-quad\" column\n",
        "        df = df[df[\"breast-quad\"] != \"?\"]\n",
        "        # Encode \"breast-quad\" column as integer values\n",
        "        df[\"breast-quad\"] = le.fit_transform(df[\"breast-quad\"])\n",
        "\n",
        "        # Encode \"irradiat\" column as integer values\n",
        "        df[\"irradiat\"] = le.fit_transform(df[\"irradiat\"])\n",
        "\n",
        "        # Split combined DataFrame back into features and labels\n",
        "        X_train_processed = df.drop('Class', axis=1)\n",
        "        y_train_processed = df['Class']\n",
        "\n",
        "        # Fit label encoder to training labels\n",
        "        self.label_encoder.fit(y_train_processed)\n",
        "        processed_train_labels = self.label_encoder.transform(y_train_processed)\n",
        "\n",
        "        return X_train_processed, processed_train_labels\n",
        "\n",
        "    def preprocess_test_data(self, test_df, test_labels):\n",
        "\n",
        "        # Convert NumPy array to a DataFrame\n",
        "        df = pd.DataFrame(test_df, columns=['age', 'menopause', 'tumor-size', 'inv-nodes', 'node-caps', 'deg-malig',\n",
        "                                                 'breast', 'breast-quad', 'irradiat'])\n",
        "\n",
        "        # Concatenate the features and labels into a single DataFrame\n",
        "        df = pd.concat([df, pd.DataFrame(test_labels, columns=['Class'])], axis=1)\n",
        "\n",
        "        # Create a LabelEncoder object\n",
        "        le = LabelEncoder()\n",
        "\n",
        "        # Convert 'age', 'tumor-size', and 'inv-nodes' columns to string representation\n",
        "        df['age'] = df['age'].astype(str)\n",
        "        df['tumor-size'] = df['tumor-size'].astype(str)\n",
        "        df['inv-nodes'] = df['inv-nodes'].astype(str)\n",
        "\n",
        "        # Split 'age' column into two columns and convert them to numeric values\n",
        "        age_ranges = df['age'].str.split('-', expand=True).apply(pd.to_numeric, errors='coerce')\n",
        "        df['age'] = age_ranges.mean(axis=1, skipna=True)\n",
        "        df['age'] = df['age'].fillna(df['age'].mean())\n",
        "\n",
        "        # Encode 'age' column as integer values\n",
        "        df['age'] = le.fit_transform(df['age'])\n",
        "\n",
        "        # Encode'menopause' column as integer values\n",
        "        df['menopause'] = le.fit_transform(df['menopause'])\n",
        "\n",
        "        # Split 'tumor-size' column into two columns and convert them to numeric values\n",
        "        tumor_ranges = df['tumor-size'].str.split('-', expand=True).apply(pd.to_numeric, errors='coerce')\n",
        "        df['tumor-size'] = tumor_ranges.mean(axis=1, skipna=True)\n",
        "        df['tumor-size'] = df['tumor-size'].fillna(df['tumor-size'].mean())\n",
        "\n",
        "        # Split 'inv-nodes' column into two columns and convert them to numeric values\n",
        "        inv_ranges = df['inv-nodes'].str.split('-', expand=True).apply(pd.to_numeric, errors='coerce')\n",
        "        df['inv-nodes'] = inv_ranges.mean(axis=1, skipna=True)\n",
        "        df['inv-nodes'] = df['inv-nodes'].fillna(df['inv-nodes'].mean())\n",
        "\n",
        "        # Remove rows with a \"?\" in \"node-caps\"\n",
        "        df = df[df[\"node-caps\"] != \"?\"]\n",
        "        # Encode \"node-caps\" column as integer values\n",
        "        df[\"node-caps\"] = le.fit_transform(df[\"node-caps\"])\n",
        "\n",
        "        # Encode \"breast\" column as integer values\n",
        "        df[\"breast\"] = le.fit_transform(df[\"breast\"])\n",
        "\n",
        "        # Remove any rows with a \"?\" in the \"breast-quad\" column\n",
        "        df = df[df[\"breast-quad\"] != \"?\"]\n",
        "        # Encode  \"breast-quad\" column as integer values\n",
        "        df[\"breast-quad\"] = le.fit_transform(df[\"breast-quad\"])\n",
        "\n",
        "        # Encode \"irradiat\" column as integer values\n",
        "        df[\"irradiat\"] = le.fit_transform(df[\"irradiat\"])\n",
        "\n",
        "        # Split combined dataframe back into features and labels\n",
        "        X_test_processed = df.drop('Class', axis=1)\n",
        "        y_test_processed = df['Class']\n",
        "\n",
        "        # Fit label encoder to test labels\n",
        "        self.label_encoder.fit(y_test_processed)\n",
        "        processed_train_labels = self.label_encoder.transform(y_test_processed)\n",
        "\n",
        "        return X_test_processed, processed_train_labels\n"
      ],
      "metadata": {
        "id": "wFztfIYrRgzg"
      },
      "execution_count": 47,
      "outputs": []
    },
    {
      "cell_type": "code",
      "source": [
        "# Dont change\n",
        "my_model = Module4_Model()"
      ],
      "metadata": {
        "id": "VtvVntdDKJfe"
      },
      "execution_count": 48,
      "outputs": []
    },
    {
      "cell_type": "code",
      "source": [
        "X_train, y_train = my_model.preprocess_training_data(X_train_split, y_train_split)"
      ],
      "metadata": {
        "id": "hNFwIEmaKzW_"
      },
      "execution_count": 49,
      "outputs": []
    },
    {
      "cell_type": "code",
      "source": [
        "# Create model, starting with Logistic Regression\n",
        "from sklearn.preprocessing import StandardScaler\n",
        "# Create a StandardScaler object\n",
        "scaler = StandardScaler()\n",
        "# Fit the scaler to the data and transform the data\n",
        "X_train_scaled = scaler.fit_transform(X_train)\n",
        "#Initialise model\n",
        "classifier = LogisticRegression(max_iter=1000)"
      ],
      "metadata": {
        "id": "an3_Xx_Bqlpm"
      },
      "execution_count": 51,
      "outputs": []
    },
    {
      "cell_type": "code",
      "source": [
        "#Train model\n",
        "classifier.fit(X_train_scaled, y_train)\n",
        "#Define new variable values to predict, this can be modified to test all models on unseen data.\n",
        "age_pred = 34.5\n",
        "menopause_pred = 1\n",
        "tumor_pred = 17\n",
        "inv_nodes_pred = 2\n",
        "node_caps_pred = 0\n",
        "deg_malig_pred = 1\n",
        "breast_pred = 4\n",
        "breast_quad_pred = 0\n",
        "irradiat_pred = 0"
      ],
      "metadata": {
        "id": "zpbjI3mNaEos"
      },
      "execution_count": 52,
      "outputs": []
    },
    {
      "cell_type": "code",
      "source": [
        "X_test, y_test = my_model.preprocess_test_data(X_test_split, y_test_split)"
      ],
      "metadata": {
        "id": "LifEwWAtZ5Es"
      },
      "execution_count": 53,
      "outputs": []
    },
    {
      "cell_type": "markdown",
      "source": [
        "Use your model to make a prediction on unseen data"
      ],
      "metadata": {
        "id": "GLe6OoIYcfcD"
      }
    },
    {
      "cell_type": "code",
      "source": [
        "X_test_scaled = scaler.fit_transform(X_test)\n",
        "\n",
        "# Predict a new result with logistic regression,0 for no-recurrence-event and 1 for recurrence-event\n",
        "print(classifier.predict(scaler.transform([[\n",
        "  age_pred,\n",
        "  menopause_pred,\n",
        "  tumor_pred,\n",
        "  inv_nodes_pred,\n",
        "  node_caps_pred,\n",
        "  deg_malig_pred,\n",
        "  breast_pred,\n",
        "  breast_quad_pred,\n",
        "  irradiat_pred\n",
        "  ]])))\n",
        "\n",
        "# Predict test set result, 0 for no-recurrence-event and 1 for recurrence-event\n",
        "y_pred = classifier.predict(X_test_scaled)\n",
        "\n",
        "# Print Confusion Matrix and Accuracy Score for model performance on test data\n",
        "cm = confusion_matrix(y_test, y_pred)\n",
        "print(cm)\n",
        "accuracy = accuracy_score(y_test,y_pred)\n",
        "print(f'Logistic Regression Accuracy: {accuracy:.2f}')"
      ],
      "metadata": {
        "colab": {
          "base_uri": "https://localhost:8080/"
        },
        "id": "JdK1gGlaaCja",
        "outputId": "50bb9fbe-f161-4ee6-e9d9-270a35e28003"
      },
      "execution_count": 64,
      "outputs": [
        {
          "output_type": "stream",
          "name": "stdout",
          "text": [
            "[0]\n",
            "[[36  0]\n",
            " [13  7]]\n",
            "Logistic Regression Accuracy: 0.77\n"
          ]
        },
        {
          "output_type": "stream",
          "name": "stderr",
          "text": [
            "/usr/local/lib/python3.10/dist-packages/sklearn/base.py:439: UserWarning: X does not have valid feature names, but StandardScaler was fitted with feature names\n",
            "  warnings.warn(\n"
          ]
        }
      ]
    },
    {
      "cell_type": "markdown",
      "source": [
        "## **Alternative Models**"
      ],
      "metadata": {
        "id": "iZMWbOFrowvM"
      }
    },
    {
      "cell_type": "markdown",
      "source": [
        "K Nearest Neighbour"
      ],
      "metadata": {
        "id": "gBlKWbkjnBXP"
      }
    },
    {
      "cell_type": "code",
      "source": [
        "# Fit KNN model to the training data\n",
        "knn = KNeighborsClassifier(n_neighbors=7, p=2, weights='uniform')\n",
        "knn.fit(X_train, y_train)\n",
        "\n",
        "# Predict a new result with KNN, 0 for no-recurrence-event and 1 for recurrence-event\n",
        "print(knn.predict(scaler.transform([[\n",
        "  age_pred,\n",
        "  menopause_pred,\n",
        "  tumor_pred,\n",
        "  inv_nodes_pred,\n",
        "  node_caps_pred,\n",
        "  deg_malig_pred,\n",
        "  breast_pred,\n",
        "  breast_quad_pred,\n",
        "  irradiat_pred\n",
        "  ]])))\n",
        "\n",
        "# Predict test set result\n",
        "y_pred = knn.predict(X_test)\n",
        "# Print Confusion Matrix and Accuracy Score for model performance on test data\n",
        "cm = confusion_matrix(y_test, y_pred)\n",
        "print(cm)\n",
        "accuracy = accuracy_score(y_test,y_pred)\n",
        "print(f'KNN Accuracy: {accuracy:.2f}')"
      ],
      "metadata": {
        "colab": {
          "base_uri": "https://localhost:8080/"
        },
        "id": "P85xf2jgbXxz",
        "outputId": "19671120-f2f8-433a-a445-8f735b26a0a6"
      },
      "execution_count": 65,
      "outputs": [
        {
          "output_type": "stream",
          "name": "stdout",
          "text": [
            "[0]\n",
            "[[34  2]\n",
            " [15  5]]\n",
            "KNN Accuracy: 0.70\n"
          ]
        },
        {
          "output_type": "stream",
          "name": "stderr",
          "text": [
            "/usr/local/lib/python3.10/dist-packages/sklearn/base.py:439: UserWarning: X does not have valid feature names, but StandardScaler was fitted with feature names\n",
            "  warnings.warn(\n",
            "/usr/local/lib/python3.10/dist-packages/sklearn/base.py:439: UserWarning: X does not have valid feature names, but KNeighborsClassifier was fitted with feature names\n",
            "  warnings.warn(\n"
          ]
        }
      ]
    },
    {
      "cell_type": "markdown",
      "source": [
        "SVM"
      ],
      "metadata": {
        "id": "QTBQw7imoClD"
      }
    },
    {
      "cell_type": "code",
      "source": [
        "# Fit SVM model to the training data\n",
        "sv = SVC(kernel = 'linear', random_state = 0)\n",
        "sv.fit(X_train, y_train)\n",
        "\n",
        "# Predict a new result with SVM, 0 for no-recurrence-event and 1 for recurrence-event\n",
        "print(sv.predict(scaler.transform([[\n",
        "  age_pred,\n",
        "  menopause_pred,\n",
        "  tumor_pred,\n",
        "  inv_nodes_pred,\n",
        "  node_caps_pred,\n",
        "  deg_malig_pred,\n",
        "  breast_pred,\n",
        "  breast_quad_pred,\n",
        "  irradiat_pred\n",
        "  ]])))\n",
        "\n",
        "# Predict test set results\n",
        "y_pred = sv.predict(X_test)\n",
        "\n",
        "# Print Confusion Matrix and Accuracy Score for model performance on test data\n",
        "cm = confusion_matrix(y_test, y_pred)\n",
        "print(cm)\n",
        "accuracy = accuracy_score(y_test,y_pred)\n",
        "print(f'SVM Accuracy: {accuracy:.2f}')"
      ],
      "metadata": {
        "colab": {
          "base_uri": "https://localhost:8080/"
        },
        "id": "-A9lBTl4oCT1",
        "outputId": "b2d94174-3ca1-4f1f-ac25-9625db009764"
      },
      "execution_count": 66,
      "outputs": [
        {
          "output_type": "stream",
          "name": "stdout",
          "text": [
            "[0]\n",
            "[[33  3]\n",
            " [12  8]]\n",
            "SVM Accuracy: 0.73\n"
          ]
        },
        {
          "output_type": "stream",
          "name": "stderr",
          "text": [
            "/usr/local/lib/python3.10/dist-packages/sklearn/base.py:439: UserWarning: X does not have valid feature names, but StandardScaler was fitted with feature names\n",
            "  warnings.warn(\n",
            "/usr/local/lib/python3.10/dist-packages/sklearn/base.py:439: UserWarning: X does not have valid feature names, but SVC was fitted with feature names\n",
            "  warnings.warn(\n"
          ]
        }
      ]
    },
    {
      "cell_type": "markdown",
      "source": [
        "Kernel SVM"
      ],
      "metadata": {
        "id": "lNzWRTMXoHtq"
      }
    },
    {
      "cell_type": "code",
      "source": [
        "# Fit Kernel SVM model to the training data\n",
        "ksv = SVC(kernel = 'poly',degree = 3,random_state = 0)\n",
        "ksv.fit(X_train, y_train)\n",
        "\n",
        "# Predict a new result with Kernel SVM,0 for no-recurrence-event and 1 for recurrence-event\n",
        "print(ksv.predict(scaler.transform([[\n",
        "  age_pred,\n",
        "  menopause_pred,\n",
        "  tumor_pred,\n",
        "  inv_nodes_pred,\n",
        "  node_caps_pred,\n",
        "  deg_malig_pred,\n",
        "  breast_pred,\n",
        "  breast_quad_pred,\n",
        "  irradiat_pred\n",
        "  ]])))\n",
        "\n",
        "# Predict test set results\n",
        "y_pred = ksv.predict(X_test)\n",
        "\n",
        "# Print Confusion Matrix and Accuracy Score for model performance on test data\n",
        "cm = confusion_matrix(y_test, y_pred)\n",
        "print(cm)\n",
        "accuracy = accuracy_score(y_test,y_pred)\n",
        "print(f'Kernel SVM Accuracy: {accuracy:.2f}')"
      ],
      "metadata": {
        "colab": {
          "base_uri": "https://localhost:8080/"
        },
        "id": "BpsC_mymoHgX",
        "outputId": "4f3a9495-29de-4dc9-fdf1-a173598d53cb"
      },
      "execution_count": 67,
      "outputs": [
        {
          "output_type": "stream",
          "name": "stdout",
          "text": [
            "[0]\n",
            "[[33  3]\n",
            " [12  8]]\n",
            "Kernel SVM Accuracy: 0.73\n"
          ]
        },
        {
          "output_type": "stream",
          "name": "stderr",
          "text": [
            "/usr/local/lib/python3.10/dist-packages/sklearn/base.py:439: UserWarning: X does not have valid feature names, but StandardScaler was fitted with feature names\n",
            "  warnings.warn(\n",
            "/usr/local/lib/python3.10/dist-packages/sklearn/base.py:439: UserWarning: X does not have valid feature names, but SVC was fitted with feature names\n",
            "  warnings.warn(\n"
          ]
        }
      ]
    },
    {
      "cell_type": "markdown",
      "source": [
        "Naive Bayes"
      ],
      "metadata": {
        "id": "jQzckjpFoPVX"
      }
    },
    {
      "cell_type": "code",
      "source": [
        "# Fit Naive model to the training data\n",
        "gauss = GaussianNB()\n",
        "gauss.fit(X_train, y_train)\n",
        "\n",
        "# Predict a new result with Naive Bayes, 0 for no-recurrence-event and 1 for recurrence-event\n",
        "print(gauss.predict(scaler.transform([[\n",
        "  age_pred,\n",
        "  menopause_pred,\n",
        "  tumor_pred,\n",
        "  inv_nodes_pred,\n",
        "  node_caps_pred,\n",
        "  deg_malig_pred,\n",
        "  breast_pred,\n",
        "  breast_quad_pred,\n",
        "  irradiat_pred\n",
        "  ]])))\n",
        "\n",
        "# Predict test set results\n",
        "y_pred = gauss.predict(X_test)\n",
        "\n",
        "# Print Confusion Matrix and Accuracy Score for model performance on test data\n",
        "cm = confusion_matrix(y_test, y_pred)\n",
        "print(cm)\n",
        "accuracy = accuracy_score(y_test,y_pred)\n",
        "print(f'Naive Bayes Accuracy: {accuracy:.2f}')"
      ],
      "metadata": {
        "colab": {
          "base_uri": "https://localhost:8080/"
        },
        "id": "XP2dnVx0oPKt",
        "outputId": "1766087f-4b72-494e-d578-df425a911cd0"
      },
      "execution_count": 68,
      "outputs": [
        {
          "output_type": "stream",
          "name": "stdout",
          "text": [
            "[0]\n",
            "[[16 20]\n",
            " [ 5 15]]\n",
            "Naive Bayes Accuracy: 0.55\n"
          ]
        },
        {
          "output_type": "stream",
          "name": "stderr",
          "text": [
            "/usr/local/lib/python3.10/dist-packages/sklearn/base.py:439: UserWarning: X does not have valid feature names, but StandardScaler was fitted with feature names\n",
            "  warnings.warn(\n",
            "/usr/local/lib/python3.10/dist-packages/sklearn/base.py:439: UserWarning: X does not have valid feature names, but GaussianNB was fitted with feature names\n",
            "  warnings.warn(\n"
          ]
        }
      ]
    },
    {
      "cell_type": "markdown",
      "source": [
        "Decision Tree"
      ],
      "metadata": {
        "id": "Fg2cCyWBoYhf"
      }
    },
    {
      "cell_type": "code",
      "source": [
        "# Create a DecisionTreeClassifier object\n",
        "dtc = DecisionTreeClassifier()\n",
        "\n",
        "# Define the parameter grid for the grid search\n",
        "param_grid = {'criterion': ['gini','entropy'],\n",
        "              'max_depth': [2, 4, 6, 8, 10],\n",
        "              'min_samples_split': [2, 4, 6, 8, 10],\n",
        "              'min_samples_leaf': [1, 2, 3, 4, 5]}\n",
        "\n",
        "# Create a GridSearchCV object\n",
        "grid_search = GridSearchCV(estimator=dtc, param_grid=param_grid, cv=5, n_jobs=-1)\n",
        "\n",
        "# Fit the grid search to the training data\n",
        "grid_search.fit(X_train, y_train)\n",
        "\n",
        "# Use the best hyperparameters to create a new decision tree classifier\n",
        "dtc = DecisionTreeClassifier(**grid_search.best_params_)\n",
        "\n",
        "# Fit the new classifier to the training data\n",
        "dtc.fit(X_train, y_train)\n",
        "\n",
        "# Predict a new result with Decision Tree Classifier, 0 for no-recurrence-event and 1 for recurrence-event\n",
        "print(dtc.predict(scaler.transform([[\n",
        "  age_pred,\n",
        "  menopause_pred,\n",
        "  tumor_pred,\n",
        "  inv_nodes_pred,\n",
        "  node_caps_pred,\n",
        "  deg_malig_pred,\n",
        "  breast_pred,\n",
        "  breast_quad_pred,\n",
        "  irradiat_pred\n",
        "  ]])))\n",
        "\n",
        "# Predict test set results\n",
        "y_pred = dtc.predict(X_test)\n",
        "\n",
        "# Print Confusion Matrix and Accuracy Score for model performance on test data\n",
        "cm = confusion_matrix(y_test, y_pred)\n",
        "print(cm)\n",
        "accuracy = accuracy_score(y_test, y_pred)\n",
        "print(f'Decision Tree Classifier Accuracy: {accuracy:.2f}')"
      ],
      "metadata": {
        "colab": {
          "base_uri": "https://localhost:8080/"
        },
        "id": "PAms-LjmoYOF",
        "outputId": "b3eae32d-ba87-4b63-994c-e7ac6520bb1c"
      },
      "execution_count": 69,
      "outputs": [
        {
          "output_type": "stream",
          "name": "stdout",
          "text": [
            "[0]\n",
            "[[36  0]\n",
            " [15  5]]\n",
            "Decision Tree Classifier Accuracy: 0.73\n"
          ]
        },
        {
          "output_type": "stream",
          "name": "stderr",
          "text": [
            "/usr/local/lib/python3.10/dist-packages/sklearn/base.py:439: UserWarning: X does not have valid feature names, but StandardScaler was fitted with feature names\n",
            "  warnings.warn(\n",
            "/usr/local/lib/python3.10/dist-packages/sklearn/base.py:439: UserWarning: X does not have valid feature names, but DecisionTreeClassifier was fitted with feature names\n",
            "  warnings.warn(\n"
          ]
        }
      ]
    },
    {
      "cell_type": "markdown",
      "source": [
        "Random Forest"
      ],
      "metadata": {
        "id": "RJigxgwfog5f"
      }
    },
    {
      "cell_type": "code",
      "source": [
        "# Fit Random Forest Classifier model to the training data\n",
        "rfc = RandomForestClassifier(n_estimators = 10, criterion = 'entropy',random_state=1)\n",
        "rfc.fit(X_train, y_train)\n",
        "\n",
        "# Predict a new result with Random Forest Classifier, 0 for no-recurrence-event and 1 for recurrence-event\n",
        "print(rfc.predict(scaler.transform([[\n",
        "  age_pred,\n",
        "  menopause_pred,\n",
        "  tumor_pred,\n",
        "  inv_nodes_pred,\n",
        "  node_caps_pred,\n",
        "  deg_malig_pred,\n",
        "  breast_pred,\n",
        "  breast_quad_pred,\n",
        "  irradiat_pred\n",
        "  ]])))\n",
        "\n",
        "# Predict test set results\n",
        "y_pred = rfc.predict(X_test)\n",
        "\n",
        "# Print Confusion Matrix and Accuracy Score for model performance on test data\n",
        "cm = confusion_matrix(y_test, y_pred)\n",
        "print(cm)\n",
        "accuracy = accuracy_score(y_test,y_pred)\n",
        "print(f'Random Forest Classifier Accuracy: {accuracy:.2f}')"
      ],
      "metadata": {
        "colab": {
          "base_uri": "https://localhost:8080/"
        },
        "id": "CYzFAX6UoguU",
        "outputId": "c7bbdf62-cdce-4746-8982-0ac9a17ddc48"
      },
      "execution_count": 70,
      "outputs": [
        {
          "output_type": "stream",
          "name": "stdout",
          "text": [
            "[0]\n",
            "[[34  2]\n",
            " [13  7]]\n",
            "Random Forest Classifier Accuracy: 0.73\n"
          ]
        },
        {
          "output_type": "stream",
          "name": "stderr",
          "text": [
            "/usr/local/lib/python3.10/dist-packages/sklearn/base.py:439: UserWarning: X does not have valid feature names, but StandardScaler was fitted with feature names\n",
            "  warnings.warn(\n",
            "/usr/local/lib/python3.10/dist-packages/sklearn/base.py:439: UserWarning: X does not have valid feature names, but RandomForestClassifier was fitted with feature names\n",
            "  warnings.warn(\n"
          ]
        }
      ]
    },
    {
      "cell_type": "code",
      "source": [
        "# Asssess the accuracy of your model and explain your key findings\n",
        "#The best performing model was linear regression at 0.77 accuracy score, possibly because it was dealing with a small dataset.\n",
        "#The worst performing model was Naive Bayes at 0.55 accuracy score, possibly due to its assumption that all features are independant, which is highly unlikely to be true in a medical context where there are often strong relationships between the variables.\n",
        "#Most other moedels performed between 0.7 to 0.73\n",
        "#In the original code I used a test size of 0.3 rather than 0.2. However, I compared this against a size of 0.2 and found that 0.3 achieved a lower accuracy score\n",
        "#The dataset is relatively small. This has likely resulted in overfitting, therefore despite the high bias towards no-recurrence-events.\n"
      ],
      "metadata": {
        "id": "UIxH-cVTpXBc"
      },
      "execution_count": null,
      "outputs": []
    },
    {
      "cell_type": "markdown",
      "source": [
        "Unit tests:\n",
        "\n",
        "Checking training and test data for null values. This will work for both pd dataframes and np arrays, and ensures no null values exist."
      ],
      "metadata": {
        "id": "6gLnrnvfpYpE"
      }
    },
    {
      "cell_type": "code",
      "source": [
        "def test_no_nulls(data):\n",
        "    \"\"\" Assert no null values within pd dataframe or np array \"\"\"\n",
        "\n",
        "    # if data is numpy array, handle accordingly\n",
        "    if isinstance(data, (np.ndarray)):\n",
        "        assert not np.isnan(np.min(data))\n",
        "\n",
        "    # if not np array, assume data is pandas dataframe\n",
        "    else:\n",
        "        assert data.isna().sum().sum() == 0\n"
      ],
      "metadata": {
        "id": "_L7fJTOBplSL"
      },
      "execution_count": 35,
      "outputs": []
    },
    {
      "cell_type": "code",
      "source": [
        "# run null data unit test on both training and test data\n",
        "test_no_nulls(X_train)\n",
        "test_no_nulls(X_test)"
      ],
      "metadata": {
        "id": "57FcICGWpnJq"
      },
      "execution_count": 36,
      "outputs": []
    }
  ]
}
